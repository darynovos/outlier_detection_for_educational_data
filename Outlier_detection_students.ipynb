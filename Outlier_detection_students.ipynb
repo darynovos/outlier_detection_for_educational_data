{
 "cells": [
  {
   "cell_type": "code",
   "execution_count": 4,
   "metadata": {},
   "outputs": [],
   "source": [
    "import pandas as pd\n",
    "import numpy as np\n",
    "\n",
    "import seaborn as sns\n",
    "import matplotlib.pyplot as plt\n",
    "\n",
    "from sklearn.cluster import KMeans\n",
    "from sklearn.preprocessing import StandardScaler\n",
    "from sklearn.metrics import silhouette_samples, silhouette_score\n",
    "import scipy.stats as stats"
   ]
  },
  {
   "cell_type": "markdown",
   "metadata": {},
   "source": [
    "User functions from the functions_for_analysis.py file:\n",
    "- plot_ec_silhouette - functuin for visualization of Elbow curve and Silhouette score\n",
    "- intersections - function to estimate intersection rate between outliers detected by different algorithms\n",
    "- clusters - function to visualize the manin characteristics of clusters of detected outliers"
   ]
  },
  {
   "cell_type": "code",
   "execution_count": 5,
   "metadata": {},
   "outputs": [],
   "source": [
    "import functions_for_analysis as ffa"
   ]
  },
  {
   "cell_type": "markdown",
   "metadata": {},
   "source": [
    "The random state seed may impact on results of algorithms based on k-means clustering."
   ]
  },
  {
   "cell_type": "code",
   "execution_count": 6,
   "metadata": {},
   "outputs": [],
   "source": [
    "random_state = 100"
   ]
  },
  {
   "cell_type": "markdown",
   "metadata": {},
   "source": [
    "# Data preprocess"
   ]
  },
  {
   "cell_type": "markdown",
   "metadata": {},
   "source": [
    "Read excel file with dataset"
   ]
  },
  {
   "cell_type": "code",
   "execution_count": 7,
   "metadata": {},
   "outputs": [],
   "source": [
    "data = pd.read_excel('Data_students.xlsx')"
   ]
  },
  {
   "cell_type": "markdown",
   "metadata": {},
   "source": [
    "The dataset presents information about students' performance during their 1st semester study. It contains 8 features:\n",
    "- **Student_ID** - student's ID\n",
    "- **Faculty** - Faculty of student\n",
    "- **Etmath** -  Enrollment mathematics test\n",
    "- **Etph** - Enrollment physics test\n",
    "- **Etch** - Enrollment chemistry test\n",
    "- **AT1** - Higher mathematics attestation test 1\n",
    "- **AT2** - Higher mathematics attestation test 2\n",
    "- **Exam** - Higher mathematics examination test"
   ]
  },
  {
   "cell_type": "code",
   "execution_count": 8,
   "metadata": {},
   "outputs": [
    {
     "data": {
      "text/html": [
       "<div>\n",
       "<style scoped>\n",
       "    .dataframe tbody tr th:only-of-type {\n",
       "        vertical-align: middle;\n",
       "    }\n",
       "\n",
       "    .dataframe tbody tr th {\n",
       "        vertical-align: top;\n",
       "    }\n",
       "\n",
       "    .dataframe thead th {\n",
       "        text-align: right;\n",
       "    }\n",
       "</style>\n",
       "<table border=\"1\" class=\"dataframe\">\n",
       "  <thead>\n",
       "    <tr style=\"text-align: right;\">\n",
       "      <th></th>\n",
       "      <th>Student_ID</th>\n",
       "      <th>Faculty</th>\n",
       "      <th>Etmath</th>\n",
       "      <th>Etph</th>\n",
       "      <th>Etch</th>\n",
       "      <th>AT1</th>\n",
       "      <th>AT2</th>\n",
       "      <th>Exam</th>\n",
       "    </tr>\n",
       "  </thead>\n",
       "  <tbody>\n",
       "    <tr>\n",
       "      <th>0</th>\n",
       "      <td>1</td>\n",
       "      <td>Computer Science</td>\n",
       "      <td>4.75</td>\n",
       "      <td>13.00</td>\n",
       "      <td>13.00</td>\n",
       "      <td>12.50</td>\n",
       "      <td>4.090000</td>\n",
       "      <td>4.25</td>\n",
       "    </tr>\n",
       "    <tr>\n",
       "      <th>1</th>\n",
       "      <td>2</td>\n",
       "      <td>Computer Science</td>\n",
       "      <td>4.25</td>\n",
       "      <td>6.00</td>\n",
       "      <td>2.50</td>\n",
       "      <td>10.56</td>\n",
       "      <td>3.323333</td>\n",
       "      <td>4.25</td>\n",
       "    </tr>\n",
       "    <tr>\n",
       "      <th>2</th>\n",
       "      <td>3</td>\n",
       "      <td>Computer Science</td>\n",
       "      <td>4.00</td>\n",
       "      <td>3.67</td>\n",
       "      <td>10.00</td>\n",
       "      <td>10.69</td>\n",
       "      <td>2.590000</td>\n",
       "      <td>3.40</td>\n",
       "    </tr>\n",
       "    <tr>\n",
       "      <th>3</th>\n",
       "      <td>4</td>\n",
       "      <td>Computer Science</td>\n",
       "      <td>4.00</td>\n",
       "      <td>10.00</td>\n",
       "      <td>16.00</td>\n",
       "      <td>7.22</td>\n",
       "      <td>3.840000</td>\n",
       "      <td>3.25</td>\n",
       "    </tr>\n",
       "    <tr>\n",
       "      <th>4</th>\n",
       "      <td>5</td>\n",
       "      <td>Computer Science</td>\n",
       "      <td>3.75</td>\n",
       "      <td>3.83</td>\n",
       "      <td>9.58</td>\n",
       "      <td>8.38</td>\n",
       "      <td>2.046667</td>\n",
       "      <td>2.80</td>\n",
       "    </tr>\n",
       "  </tbody>\n",
       "</table>\n",
       "</div>"
      ],
      "text/plain": [
       "   Student_ID           Faculty  Etmath   Etph   Etch    AT1       AT2  Exam\n",
       "0           1  Computer Science    4.75  13.00  13.00  12.50  4.090000  4.25\n",
       "1           2  Computer Science    4.25   6.00   2.50  10.56  3.323333  4.25\n",
       "2           3  Computer Science    4.00   3.67  10.00  10.69  2.590000  3.40\n",
       "3           4  Computer Science    4.00  10.00  16.00   7.22  3.840000  3.25\n",
       "4           5  Computer Science    3.75   3.83   9.58   8.38  2.046667  2.80"
      ]
     },
     "execution_count": 8,
     "metadata": {},
     "output_type": "execute_result"
    }
   ],
   "source": [
    "data.head()"
   ]
  },
  {
   "cell_type": "markdown",
   "metadata": {},
   "source": [
    "Explore numerical features.\n",
    "\n",
    "Dataset contains tests results for 1075 students. The minimal score which corresponds to the worst result is 0.0 for each test, while maximal score varies."
   ]
  },
  {
   "cell_type": "code",
   "execution_count": 11,
   "metadata": {},
   "outputs": [
    {
     "data": {
      "text/html": [
       "<div>\n",
       "<style scoped>\n",
       "    .dataframe tbody tr th:only-of-type {\n",
       "        vertical-align: middle;\n",
       "    }\n",
       "\n",
       "    .dataframe tbody tr th {\n",
       "        vertical-align: top;\n",
       "    }\n",
       "\n",
       "    .dataframe thead th {\n",
       "        text-align: right;\n",
       "    }\n",
       "</style>\n",
       "<table border=\"1\" class=\"dataframe\">\n",
       "  <thead>\n",
       "    <tr style=\"text-align: right;\">\n",
       "      <th></th>\n",
       "      <th>Etmath</th>\n",
       "      <th>Etph</th>\n",
       "      <th>Etch</th>\n",
       "      <th>AT1</th>\n",
       "      <th>AT2</th>\n",
       "      <th>Exam</th>\n",
       "    </tr>\n",
       "  </thead>\n",
       "  <tbody>\n",
       "    <tr>\n",
       "      <th>count</th>\n",
       "      <td>1075.000000</td>\n",
       "      <td>1075.000000</td>\n",
       "      <td>1075.000000</td>\n",
       "      <td>1016.000000</td>\n",
       "      <td>992.000000</td>\n",
       "      <td>1008.000000</td>\n",
       "    </tr>\n",
       "    <tr>\n",
       "      <th>mean</th>\n",
       "      <td>2.767907</td>\n",
       "      <td>7.997358</td>\n",
       "      <td>10.571191</td>\n",
       "      <td>7.219931</td>\n",
       "      <td>2.188360</td>\n",
       "      <td>3.084573</td>\n",
       "    </tr>\n",
       "    <tr>\n",
       "      <th>std</th>\n",
       "      <td>1.169112</td>\n",
       "      <td>4.498383</td>\n",
       "      <td>5.499710</td>\n",
       "      <td>2.497395</td>\n",
       "      <td>0.936574</td>\n",
       "      <td>1.059251</td>\n",
       "    </tr>\n",
       "    <tr>\n",
       "      <th>min</th>\n",
       "      <td>0.000000</td>\n",
       "      <td>0.000000</td>\n",
       "      <td>0.000000</td>\n",
       "      <td>0.740000</td>\n",
       "      <td>0.000000</td>\n",
       "      <td>0.000000</td>\n",
       "    </tr>\n",
       "    <tr>\n",
       "      <th>25%</th>\n",
       "      <td>2.000000</td>\n",
       "      <td>4.330000</td>\n",
       "      <td>6.500000</td>\n",
       "      <td>5.450000</td>\n",
       "      <td>1.466667</td>\n",
       "      <td>2.750000</td>\n",
       "    </tr>\n",
       "    <tr>\n",
       "      <th>50%</th>\n",
       "      <td>3.000000</td>\n",
       "      <td>7.330000</td>\n",
       "      <td>9.500000</td>\n",
       "      <td>7.080000</td>\n",
       "      <td>2.098333</td>\n",
       "      <td>3.250000</td>\n",
       "    </tr>\n",
       "    <tr>\n",
       "      <th>75%</th>\n",
       "      <td>3.750000</td>\n",
       "      <td>11.000000</td>\n",
       "      <td>14.000000</td>\n",
       "      <td>8.875000</td>\n",
       "      <td>2.827500</td>\n",
       "      <td>3.800000</td>\n",
       "    </tr>\n",
       "    <tr>\n",
       "      <th>max</th>\n",
       "      <td>5.000000</td>\n",
       "      <td>20.000000</td>\n",
       "      <td>24.000000</td>\n",
       "      <td>14.720000</td>\n",
       "      <td>4.620000</td>\n",
       "      <td>5.000000</td>\n",
       "    </tr>\n",
       "  </tbody>\n",
       "</table>\n",
       "</div>"
      ],
      "text/plain": [
       "            Etmath         Etph         Etch          AT1         AT2  \\\n",
       "count  1075.000000  1075.000000  1075.000000  1016.000000  992.000000   \n",
       "mean      2.767907     7.997358    10.571191     7.219931    2.188360   \n",
       "std       1.169112     4.498383     5.499710     2.497395    0.936574   \n",
       "min       0.000000     0.000000     0.000000     0.740000    0.000000   \n",
       "25%       2.000000     4.330000     6.500000     5.450000    1.466667   \n",
       "50%       3.000000     7.330000     9.500000     7.080000    2.098333   \n",
       "75%       3.750000    11.000000    14.000000     8.875000    2.827500   \n",
       "max       5.000000    20.000000    24.000000    14.720000    4.620000   \n",
       "\n",
       "              Exam  \n",
       "count  1008.000000  \n",
       "mean      3.084573  \n",
       "std       1.059251  \n",
       "min       0.000000  \n",
       "25%       2.750000  \n",
       "50%       3.250000  \n",
       "75%       3.800000  \n",
       "max       5.000000  "
      ]
     },
     "execution_count": 11,
     "metadata": {},
     "output_type": "execute_result"
    }
   ],
   "source": [
    "features_name = ['Etmath','Etph','Etch','AT1','AT2','Exam']\n",
    "df = data[features_name]\n",
    "df.describe()"
   ]
  },
  {
   "cell_type": "markdown",
   "metadata": {},
   "source": [
    "According to the descriptive statistics we can say, that some students passed only enrollment tests and didn't take attestation or exam tests. To avoid loss of information we fill missing values as follows:"
   ]
  },
  {
   "cell_type": "code",
   "execution_count": 12,
   "metadata": {},
   "outputs": [],
   "source": [
    "df = df.fillna(value = 0.)"
   ]
  },
  {
   "cell_type": "markdown",
   "metadata": {},
   "source": [
    "Check the distribution of features and how similar they are with normal distribution. Pearson’s test shows that all features significantly differ from the normal distribution (p-value<0.0005)."
   ]
  },
  {
   "cell_type": "code",
   "execution_count": 13,
   "metadata": {},
   "outputs": [
    {
     "name": "stdout",
     "output_type": "stream",
     "text": [
      "Etmath. Statistic: 64.03, P-value:0.0\n",
      "Etph. Statistic: 62.36, P-value:0.0\n",
      "Etch. Statistic: 64.39, P-value:0.0\n",
      "AT1. Statistic: 18.16, P-value:0.00011\n",
      "AT2. Statistic: 23.64, P-value:1e-05\n",
      "Exam. Statistic: 109.03, P-value:0.0\n"
     ]
    }
   ],
   "source": [
    "for feature in df.columns:\n",
    "    var = df[feature]\n",
    "    k, p = stats.normaltest(var)\n",
    "    print(f'{str(feature)}. Statistic: {k.round(2)}, P-value:{p.round(5)}')  "
   ]
  },
  {
   "cell_type": "markdown",
   "metadata": {},
   "source": [
    "We check the relation between features. According to correlation matrix, they are positively correlated. \n",
    "\n",
    "Use Spearman correlation coefficient since features significantly differ from normal distribution."
   ]
  },
  {
   "cell_type": "code",
   "execution_count": 14,
   "metadata": {},
   "outputs": [
    {
     "data": {
      "text/html": [
       "<div>\n",
       "<style scoped>\n",
       "    .dataframe tbody tr th:only-of-type {\n",
       "        vertical-align: middle;\n",
       "    }\n",
       "\n",
       "    .dataframe tbody tr th {\n",
       "        vertical-align: top;\n",
       "    }\n",
       "\n",
       "    .dataframe thead th {\n",
       "        text-align: right;\n",
       "    }\n",
       "</style>\n",
       "<table border=\"1\" class=\"dataframe\">\n",
       "  <thead>\n",
       "    <tr style=\"text-align: right;\">\n",
       "      <th></th>\n",
       "      <th>Etmath</th>\n",
       "      <th>Etph</th>\n",
       "      <th>Etch</th>\n",
       "      <th>AT1</th>\n",
       "      <th>AT2</th>\n",
       "      <th>Exam</th>\n",
       "    </tr>\n",
       "  </thead>\n",
       "  <tbody>\n",
       "    <tr>\n",
       "      <th>Etmath</th>\n",
       "      <td>1.000</td>\n",
       "      <td>0.574</td>\n",
       "      <td>0.445</td>\n",
       "      <td>0.631</td>\n",
       "      <td>0.634</td>\n",
       "      <td>0.532</td>\n",
       "    </tr>\n",
       "    <tr>\n",
       "      <th>Etph</th>\n",
       "      <td>0.574</td>\n",
       "      <td>1.000</td>\n",
       "      <td>0.315</td>\n",
       "      <td>0.441</td>\n",
       "      <td>0.478</td>\n",
       "      <td>0.430</td>\n",
       "    </tr>\n",
       "    <tr>\n",
       "      <th>Etch</th>\n",
       "      <td>0.445</td>\n",
       "      <td>0.315</td>\n",
       "      <td>1.000</td>\n",
       "      <td>0.399</td>\n",
       "      <td>0.354</td>\n",
       "      <td>0.369</td>\n",
       "    </tr>\n",
       "    <tr>\n",
       "      <th>AT1</th>\n",
       "      <td>0.631</td>\n",
       "      <td>0.441</td>\n",
       "      <td>0.399</td>\n",
       "      <td>1.000</td>\n",
       "      <td>0.666</td>\n",
       "      <td>0.641</td>\n",
       "    </tr>\n",
       "    <tr>\n",
       "      <th>AT2</th>\n",
       "      <td>0.634</td>\n",
       "      <td>0.478</td>\n",
       "      <td>0.354</td>\n",
       "      <td>0.666</td>\n",
       "      <td>1.000</td>\n",
       "      <td>0.641</td>\n",
       "    </tr>\n",
       "    <tr>\n",
       "      <th>Exam</th>\n",
       "      <td>0.532</td>\n",
       "      <td>0.430</td>\n",
       "      <td>0.369</td>\n",
       "      <td>0.641</td>\n",
       "      <td>0.641</td>\n",
       "      <td>1.000</td>\n",
       "    </tr>\n",
       "  </tbody>\n",
       "</table>\n",
       "</div>"
      ],
      "text/plain": [
       "        Etmath   Etph   Etch    AT1    AT2   Exam\n",
       "Etmath   1.000  0.574  0.445  0.631  0.634  0.532\n",
       "Etph     0.574  1.000  0.315  0.441  0.478  0.430\n",
       "Etch     0.445  0.315  1.000  0.399  0.354  0.369\n",
       "AT1      0.631  0.441  0.399  1.000  0.666  0.641\n",
       "AT2      0.634  0.478  0.354  0.666  1.000  0.641\n",
       "Exam     0.532  0.430  0.369  0.641  0.641  1.000"
      ]
     },
     "execution_count": 14,
     "metadata": {},
     "output_type": "execute_result"
    }
   ],
   "source": [
    "data[features_name].corr('spearman').round(3)"
   ]
  },
  {
   "cell_type": "markdown",
   "metadata": {},
   "source": [
    " # Outlier Detection"
   ]
  },
  {
   "cell_type": "code",
   "execution_count": 15,
   "metadata": {},
   "outputs": [],
   "source": [
    "df_outliers = df.copy()"
   ]
  },
  {
   "cell_type": "markdown",
   "metadata": {},
   "source": [
    "## Abnormal values"
   ]
  },
  {
   "cell_type": "markdown",
   "metadata": {},
   "source": [
    "Firstly, detect abnormal values by two algorithms: **3*sigma** and **1,5*IQR** thumb rules."
   ]
  },
  {
   "cell_type": "markdown",
   "metadata": {},
   "source": [
    "**1. 1.5*IQR**"
   ]
  },
  {
   "cell_type": "code",
   "execution_count": 17,
   "metadata": {},
   "outputs": [
    {
     "name": "stdout",
     "output_type": "stream",
     "text": [
      "Number of abnormal values detected by 1.5*IQR: 105\n"
     ]
    }
   ],
   "source": [
    "var = df\n",
    "\n",
    "Q1 = var.quantile(0.25)\n",
    "Q3 = var.quantile(0.75)\n",
    "\n",
    "IQR = Q3-Q1\n",
    "\n",
    "lower_limit_iqr = Q1-1.5*IQR\n",
    "upper_limit_iqr = Q3+1.5*IQR\n",
    "\n",
    "point_out_inds_iqr = []\n",
    "for feature in df.columns:\n",
    "    aa = df[(df[feature]>upper_limit_iqr[feature]) | (df[feature]<lower_limit_iqr[feature])]\n",
    "    point_out_inds_iqr.append(list(aa.index))\n",
    "\n",
    "point_outliers_iqr = pd.Series( point_out_inds_iqr).explode().dropna().unique()\n",
    "print(f'Number of abnormal values detected by 1.5*IQR: {len(point_outliers_iqr)}')"
   ]
  },
  {
   "cell_type": "markdown",
   "metadata": {},
   "source": [
    "**2. 3*sigma**"
   ]
  },
  {
   "cell_type": "code",
   "execution_count": 18,
   "metadata": {},
   "outputs": [
    {
     "name": "stdout",
     "output_type": "stream",
     "text": [
      "Number of abnormal values detected by 3*sigma: 0\n"
     ]
    }
   ],
   "source": [
    "df_std = df.std()*3\n",
    "df_mean = df.mean()\n",
    "\n",
    "lower_limit = df_mean - df_std \n",
    "upper_limit = df_mean + df_std \n",
    "\n",
    "point_out_inds = []\n",
    "for feature in df.columns:\n",
    "    aa = df[(df[feature]>=upper_limit[feature]) | (df[feature]<=lower_limit[feature])]\n",
    "    point_out_inds.append(list(aa.index))\n",
    "    \n",
    "point_outliers = pd.Series(point_out_inds).explode().dropna().unique()\n",
    "print(f'Number of abnormal values detected by 3*sigma: {len(point_outliers)}')"
   ]
  },
  {
   "cell_type": "markdown",
   "metadata": {},
   "source": [
    "**Visualization of abnormal values.**\n",
    "\n",
    "Here, the box corresponds to the IQR, the horizontal line inside the box shows the median, the whiskers denote\n",
    "the [Q1−1.5∗IQR; Q3+1.5∗IQR] interval, the circle white point shows mean value, and the colored background denotes the [mean − 3 ∗ std; mean + 3 ∗ std] interval. The abnormal values defined as deviations from the mean (less than\n",
    "mean − 3 ∗ std or more than mean + 3 ∗ std) have not been found. The observations which fell beyond the whiskers have been found for features AT1 and Exam. Where abnormal values for AT1 correspond to the highest scores, while\n",
    "abnormal values for Exam corresponds the lowest score. This means that the majority of students do not pass the first attestation tests with excellent scores, but they tend to pass the exam."
   ]
  },
  {
   "cell_type": "code",
   "execution_count": 19,
   "metadata": {},
   "outputs": [
    {
     "data": {
      "image/png": "[encoded data removed]",
      "text/plain": [
       "<Figure size 720x504 with 1 Axes>"
      ]
     },
     "metadata": {
      "needs_background": "light"
     },
     "output_type": "display_data"
    }
   ],
   "source": [
    "y1=[]\n",
    "for i in lower_limit:\n",
    "    y1.extend([i,i])\n",
    "y2 = []\n",
    "for i in upper_limit:\n",
    "    y2.extend([i,i])\n",
    "\n",
    "\n",
    "plt.figure(figsize = (10,7))\n",
    "sns.set_style(\"whitegrid\")\n",
    "x = (-0.5,0.5,0.5,1.5,1.5,2.5,2.5,3.5,3.5,4.5,4.5,5.5)\n",
    "plt.fill_between(x,y1,y2, alpha =0.2, color = 'coral')\n",
    "\n",
    "sns.boxplot(x=\"variable\", y=\"value\", data=pd.melt(df),dodge=False,showmeans=True, meanprops={\"marker\":\"o\",\n",
    "                       \"markerfacecolor\":\"white\", \n",
    "                       \"markeredgecolor\":\"black\",\n",
    "                      \"markersize\":\"10\"},\n",
    "                    flierprops=dict(markerfacecolor=\"crimson\", marker=\"D\"))\n",
    "plt.xlabel('')\n",
    "plt.ylabel('')\n",
    "plt.xticks([0,1,2,3,4,5],['ETmath','ETph','ETch', 'AT1', 'AT2', 'Exam'],fontsize = 25)\n",
    "plt.yticks(fontsize = 25);"
   ]
  },
  {
   "cell_type": "markdown",
   "metadata": {},
   "source": [
    "## Global and Local outliers"
   ]
  },
  {
   "cell_type": "markdown",
   "metadata": {},
   "source": [
    "Secondly, detect global outliers - data objects which significantly differ from the majority of observations in the considered dataset in terms of considered set of features, and local outliers - data objects which lay in the areas of sparse density.\n",
    "\n",
    "Here, we will consider four unsupervised outlier detection algorithms distance-based kNN, cluster-based CBLOF, density-based LOF, and statistic-based HBOS. We will use [PyOD](https://pyod.readthedocs.io/en/latest/index.html) library which contains almost all state-of-the-art outlier detection algorithms."
   ]
  },
  {
   "cell_type": "markdown",
   "metadata": {},
   "source": [
    "### kNN"
   ]
  },
  {
   "cell_type": "markdown",
   "metadata": {},
   "source": [
    "Extract function which detects outliers by [kNN](https://pyod.readthedocs.io/en/latest/pyod.models.html#module-pyod.models.knn) algorithm from PyOD."
   ]
  },
  {
   "cell_type": "code",
   "execution_count": 20,
   "metadata": {},
   "outputs": [],
   "source": [
    "from pyod.models.knn import KNN"
   ]
  },
  {
   "cell_type": "markdown",
   "metadata": {},
   "source": [
    "Since the considered features are represented in different scales, they have to be standardized."
   ]
  },
  {
   "cell_type": "code",
   "execution_count": 21,
   "metadata": {},
   "outputs": [],
   "source": [
    "X = np.array(df)\n",
    "X = StandardScaler().fit_transform(X)"
   ]
  },
  {
   "cell_type": "markdown",
   "metadata": {},
   "source": [
    "The algortihm requires several predefined parameters:\n",
    "- **k** - number of nearest neighbors;\n",
    "- **contamination** - assumption about the proportion of outliers in the data set;\n",
    "- **method** - the way of estimatin outlier score;\n",
    "- **metric** - metric for estimation distance between objects.\n",
    "\n",
    "In this case we consider k = 50 with contamination 10%, which are mostly used as standard values of parameters for this algorithm ([Goldstein and Uchida](https://doi.org/10.1371/journal.pone.0152173))."
   ]
  },
  {
   "cell_type": "code",
   "execution_count": 22,
   "metadata": {},
   "outputs": [],
   "source": [
    "k=50\n",
    "df_outliers['knn_10'] =  KNN(contamination=0.1, n_neighbors=k, method='mean', algorithm='ball_tree', metric='euclidean').fit(X).labels_"
   ]
  },
  {
   "cell_type": "markdown",
   "metadata": {},
   "source": [
    "### CBLOF"
   ]
  },
  {
   "cell_type": "markdown",
   "metadata": {},
   "source": [
    "Extract function which detects outliers by [CBLOF](https://pyod.readthedocs.io/en/latest/pyod.models.html#module-pyod.models.cblof) algorithm from PyOD."
   ]
  },
  {
   "cell_type": "code",
   "execution_count": 23,
   "metadata": {},
   "outputs": [],
   "source": [
    "from pyod.models.cblof import CBLOF\n",
    "import warnings\n",
    "warnings.filterwarnings('ignore')"
   ]
  },
  {
   "cell_type": "markdown",
   "metadata": {},
   "source": [
    "Since CBLOF algorithm is based on clustering, it's necessary to identify number of clusters. To find optimal number of clusters, we will use Elbow curve and Silhouette score."
   ]
  },
  {
   "cell_type": "code",
   "execution_count": 24,
   "metadata": {},
   "outputs": [
    {
     "data": {
      "image/png": "[encoded data removed]",
      "text/plain": [
       "<Figure size 1080x360 with 2 Axes>"
      ]
     },
     "metadata": {},
     "output_type": "display_data"
    }
   ],
   "source": [
    "ffa.plot_ec_silhouette(X, random_state)"
   ]
  },
  {
   "cell_type": "markdown",
   "metadata": {},
   "source": [
    "The algorithm requires the following predefined parameters:\n",
    "\n",
    "- **k** - number of nearest neighbors;\n",
    "- **contamination** - assumption about the proportion of outliers in the data set;\n",
    "- **alpha** - coefficient for deciding small and large clusters. The ratio of the number of samples in large clusters to the number of samples in small clusters;\n",
    "- **beta** - coefficient for deciding small and large clusters.\n",
    "\n",
    "In this case we consider k = 6 due to Elbow curve and Silhouete score, the clustering algorithm k-means, the parameters α =\n",
    "0.8, β = 5, with contamination 10% ([He et al.](https://doi.org/10.1016/S0167-8655(03)00003-5))."
   ]
  },
  {
   "cell_type": "code",
   "execution_count": 25,
   "metadata": {},
   "outputs": [],
   "source": [
    "k=6\n",
    "alpha = 0.8\n",
    "beta = 5\n",
    "df_outliers['cblof_10'] = CBLOF(n_clusters=k, contamination=0.1, alpha=alpha, beta=beta,random_state = random_state).fit(X).labels_"
   ]
  },
  {
   "cell_type": "markdown",
   "metadata": {},
   "source": [
    "### HBOS"
   ]
  },
  {
   "cell_type": "markdown",
   "metadata": {},
   "source": [
    "Extract function which detects outliers by [HBOS](https://pyod.readthedocs.io/en/latest/pyod.models.html#module-pyod.models.hbos) algorithm from PyOD."
   ]
  },
  {
   "cell_type": "code",
   "execution_count": 26,
   "metadata": {},
   "outputs": [],
   "source": [
    "from pyod.models.hbos import HBOS"
   ]
  },
  {
   "cell_type": "markdown",
   "metadata": {},
   "source": [
    "The algorithm requires the following predefined parameters:\n",
    "\n",
    "- **n_bins** - the number of bins. \n",
    "- **contamination** - assumption about the proportion of outliers in the data set.\n",
    " \n",
    "In this case we consider n_bins = 33, since the rule of thumb determines number of bins by the square root of the number of instances N (1075). "
   ]
  },
  {
   "cell_type": "code",
   "execution_count": 27,
   "metadata": {},
   "outputs": [],
   "source": [
    "df_outliers['hbos_10'] = HBOS(n_bins=33, contamination=0.1).fit(X).labels_"
   ]
  },
  {
   "cell_type": "markdown",
   "metadata": {},
   "source": [
    "## Local outliers"
   ]
  },
  {
   "cell_type": "markdown",
   "metadata": {},
   "source": [
    "### LOF"
   ]
  },
  {
   "cell_type": "markdown",
   "metadata": {},
   "source": [
    "Extract function which detects outliers by [LOF](https://pyod.readthedocs.io/en/latest/pyod.models.html#module-pyod.models.lof) algorithm from PyOD."
   ]
  },
  {
   "cell_type": "code",
   "execution_count": 28,
   "metadata": {},
   "outputs": [],
   "source": [
    "from pyod.models.lof import LOF"
   ]
  },
  {
   "cell_type": "markdown",
   "metadata": {},
   "source": [
    "The algortihm requires several predefined parameters:\n",
    "\n",
    "- **k** - number of nearest neighbors;\n",
    "- **contamination** - assumption about the proportion of outliers in the data set;\n",
    "- **algorithm** - algorithm used to compute the nearest neighbors;\n",
    "- **metric** - metric for estimation distance between objects.\n",
    "\n",
    "In this case we consider k = 50 with contamination 10%, which are mostly used as standard values of parameters for this algorithm ([Breunig et al.](https://doi.org/10.1145/342009.335388))."
   ]
  },
  {
   "cell_type": "code",
   "execution_count": 29,
   "metadata": {},
   "outputs": [],
   "source": [
    "df_outliers['lof_10'] = LOF(n_neighbors=50,  algorithm='auto', metric='euclidean', contamination = 0.1).fit(X).labels_"
   ]
  },
  {
   "cell_type": "markdown",
   "metadata": {},
   "source": [
    "# Comparison and Intersection"
   ]
  },
  {
   "cell_type": "markdown",
   "metadata": {},
   "source": [
    "Let's compare outliers detected by various algorithms. For this we will estimate intersection rate."
   ]
  },
  {
   "cell_type": "code",
   "execution_count": 30,
   "metadata": {},
   "outputs": [
    {
     "data": {
      "text/html": [
       "<div>\n",
       "<style scoped>\n",
       "    .dataframe tbody tr th:only-of-type {\n",
       "        vertical-align: middle;\n",
       "    }\n",
       "\n",
       "    .dataframe tbody tr th {\n",
       "        vertical-align: top;\n",
       "    }\n",
       "\n",
       "    .dataframe thead th {\n",
       "        text-align: right;\n",
       "    }\n",
       "</style>\n",
       "<table border=\"1\" class=\"dataframe\">\n",
       "  <thead>\n",
       "    <tr style=\"text-align: right;\">\n",
       "      <th></th>\n",
       "      <th>knn_10</th>\n",
       "      <th>cblof_10</th>\n",
       "      <th>hbos_10</th>\n",
       "      <th>lof_10</th>\n",
       "    </tr>\n",
       "  </thead>\n",
       "  <tbody>\n",
       "    <tr>\n",
       "      <th>knn_10</th>\n",
       "      <td>1.0</td>\n",
       "      <td>0.79</td>\n",
       "      <td>0.15</td>\n",
       "      <td>0.82</td>\n",
       "    </tr>\n",
       "    <tr>\n",
       "      <th>cblof_10</th>\n",
       "      <td>0.0</td>\n",
       "      <td>1.00</td>\n",
       "      <td>0.10</td>\n",
       "      <td>0.74</td>\n",
       "    </tr>\n",
       "    <tr>\n",
       "      <th>hbos_10</th>\n",
       "      <td>0.0</td>\n",
       "      <td>0.00</td>\n",
       "      <td>1.00</td>\n",
       "      <td>0.11</td>\n",
       "    </tr>\n",
       "    <tr>\n",
       "      <th>lof_10</th>\n",
       "      <td>0.0</td>\n",
       "      <td>0.00</td>\n",
       "      <td>0.00</td>\n",
       "      <td>1.00</td>\n",
       "    </tr>\n",
       "  </tbody>\n",
       "</table>\n",
       "</div>"
      ],
      "text/plain": [
       "          knn_10  cblof_10  hbos_10  lof_10\n",
       "knn_10       1.0      0.79     0.15    0.82\n",
       "cblof_10     0.0      1.00     0.10    0.74\n",
       "hbos_10      0.0      0.00     1.00    0.11\n",
       "lof_10       0.0      0.00     0.00    1.00"
      ]
     },
     "execution_count": 30,
     "metadata": {},
     "output_type": "execute_result"
    }
   ],
   "source": [
    "set_ = ['knn_10','cblof_10','hbos_10','lof_10']\n",
    "\n",
    "intersections_10 = ffa.intersections(df_outliers[set_])\n",
    "n_10 = intersections_10.iloc[0,0]\n",
    "intersections_10 = (intersections_10/n_10).round(2)\n",
    "intersections_10"
   ]
  },
  {
   "cell_type": "markdown",
   "metadata": {},
   "source": [
    "Outliers detected by kNN, CBLOF, and LOF have a high rate of intersection. Yet, outliers detected by histogram-based HBOS almost do not overlap with outliers detected by other algorithms. This can be explained by the various nature of HBOS and other algorithms. Despite kNN, LOF, and CBLOF are completely different, all of them use the same distance matrix between objects (Euclidean distance), while HBOS uses the histogram values."
   ]
  },
  {
   "cell_type": "markdown",
   "metadata": {},
   "source": [
    "To find out the main tendencies of outlying behaviour of students in the dataset, we will cluster the detected outliers h by k-means algorithm, where k - number of clusters will be chosen with the help of the elbow curve and\n",
    "the silhouette criteria.  \n",
    "\n",
    "We will perform tables which have information about the number of outliers in each cluster (N), and mean cluster values for each feature. Although the features for outlier detection and clustering were standardized, the tables include average values for min-max normalized (where values of features ∈ [0; 1]) features of the clusters to help\n",
    "the interpretation. \n",
    "\n",
    "The values of features 0-0.54 mean a fail; 0.55 - 0.69 corre\u0002spond to the average score, 0.7 - 0.89 indicate good scores, and 0.9-1 determine the excellent scores.\n"
   ]
  },
  {
   "cell_type": "markdown",
   "metadata": {},
   "source": [
    "## kNN Outliers"
   ]
  },
  {
   "cell_type": "code",
   "execution_count": 31,
   "metadata": {},
   "outputs": [],
   "source": [
    "knn_o = df_outliers[df_outliers.knn_10 == 1].copy()"
   ]
  },
  {
   "cell_type": "code",
   "execution_count": 32,
   "metadata": {},
   "outputs": [],
   "source": [
    "X_knn = np.array(knn_o[features_name])\n",
    "X_knn= StandardScaler().fit_transform(X_knn)"
   ]
  },
  {
   "cell_type": "code",
   "execution_count": 33,
   "metadata": {},
   "outputs": [
    {
     "data": {
      "image/png": "[encoded data removed]",
      "text/plain": [
       "<Figure size 1080x360 with 2 Axes>"
      ]
     },
     "metadata": {},
     "output_type": "display_data"
    }
   ],
   "source": [
    "ffa.plot_ec_silhouette(X_knn, random_state)"
   ]
  },
  {
   "cell_type": "code",
   "execution_count": 34,
   "metadata": {},
   "outputs": [],
   "source": [
    "kmeans_o = KMeans(n_clusters=6, init='k-means++',random_state = random_state).fit(X_knn)\n",
    "labels = kmeans_o.labels_\n",
    "knn_o['class knn'] = labels+1"
   ]
  },
  {
   "cell_type": "code",
   "execution_count": 35,
   "metadata": {},
   "outputs": [
    {
     "data": {
      "text/html": [
       "<div>\n",
       "<style scoped>\n",
       "    .dataframe tbody tr th:only-of-type {\n",
       "        vertical-align: middle;\n",
       "    }\n",
       "\n",
       "    .dataframe tbody tr th {\n",
       "        vertical-align: top;\n",
       "    }\n",
       "\n",
       "    .dataframe thead th {\n",
       "        text-align: right;\n",
       "    }\n",
       "</style>\n",
       "<table border=\"1\" class=\"dataframe\">\n",
       "  <thead>\n",
       "    <tr style=\"text-align: right;\">\n",
       "      <th></th>\n",
       "      <th>Etmath</th>\n",
       "      <th>Etph</th>\n",
       "      <th>Etch</th>\n",
       "      <th>AT1</th>\n",
       "      <th>AT2</th>\n",
       "      <th>Exam</th>\n",
       "      <th>N</th>\n",
       "    </tr>\n",
       "    <tr>\n",
       "      <th>class knn</th>\n",
       "      <th></th>\n",
       "      <th></th>\n",
       "      <th></th>\n",
       "      <th></th>\n",
       "      <th></th>\n",
       "      <th></th>\n",
       "      <th></th>\n",
       "    </tr>\n",
       "  </thead>\n",
       "  <tbody>\n",
       "    <tr>\n",
       "      <th>1</th>\n",
       "      <td>0.76</td>\n",
       "      <td>0.75</td>\n",
       "      <td>0.18</td>\n",
       "      <td>0.67</td>\n",
       "      <td>0.69</td>\n",
       "      <td>0.85</td>\n",
       "      <td>9</td>\n",
       "    </tr>\n",
       "    <tr>\n",
       "      <th>2</th>\n",
       "      <td>0.34</td>\n",
       "      <td>0.14</td>\n",
       "      <td>0.17</td>\n",
       "      <td>0.55</td>\n",
       "      <td>0.49</td>\n",
       "      <td>0.64</td>\n",
       "      <td>10</td>\n",
       "    </tr>\n",
       "    <tr>\n",
       "      <th>3</th>\n",
       "      <td>0.75</td>\n",
       "      <td>0.80</td>\n",
       "      <td>0.76</td>\n",
       "      <td>0.51</td>\n",
       "      <td>0.42</td>\n",
       "      <td>0.63</td>\n",
       "      <td>11</td>\n",
       "    </tr>\n",
       "    <tr>\n",
       "      <th>4</th>\n",
       "      <td>0.44</td>\n",
       "      <td>0.37</td>\n",
       "      <td>0.39</td>\n",
       "      <td>0.04</td>\n",
       "      <td>0.10</td>\n",
       "      <td>0.33</td>\n",
       "      <td>31</td>\n",
       "    </tr>\n",
       "    <tr>\n",
       "      <th>5</th>\n",
       "      <td>0.65</td>\n",
       "      <td>0.44</td>\n",
       "      <td>0.46</td>\n",
       "      <td>0.49</td>\n",
       "      <td>0.22</td>\n",
       "      <td>0.16</td>\n",
       "      <td>39</td>\n",
       "    </tr>\n",
       "    <tr>\n",
       "      <th>6</th>\n",
       "      <td>0.72</td>\n",
       "      <td>0.26</td>\n",
       "      <td>0.97</td>\n",
       "      <td>0.64</td>\n",
       "      <td>0.62</td>\n",
       "      <td>0.82</td>\n",
       "      <td>8</td>\n",
       "    </tr>\n",
       "  </tbody>\n",
       "</table>\n",
       "</div>"
      ],
      "text/plain": [
       "           Etmath  Etph  Etch   AT1   AT2  Exam   N\n",
       "class knn                                          \n",
       "1            0.76  0.75  0.18  0.67  0.69  0.85   9\n",
       "2            0.34  0.14  0.17  0.55  0.49  0.64  10\n",
       "3            0.75  0.80  0.76  0.51  0.42  0.63  11\n",
       "4            0.44  0.37  0.39  0.04  0.10  0.33  31\n",
       "5            0.65  0.44  0.46  0.49  0.22  0.16  39\n",
       "6            0.72  0.26  0.97  0.64  0.62  0.82   8"
      ]
     },
     "execution_count": 35,
     "metadata": {},
     "output_type": "execute_result"
    }
   ],
   "source": [
    "ffa.clusters(knn_o, 'class knn')"
   ]
  },
  {
   "cell_type": "markdown",
   "metadata": {},
   "source": [
    "**Clusters of outliers detected by kNN:**\n",
    "- **Cluster 1** - Good course performance with a good background in physics and mathematics. Students with good scores for enrolment tests in physics(0.75) and mathematics (0.76), who passed attestation tests with average scores and exam with good scores (0.85).\n",
    "- **Cluster 2** - Average exam score despite failed tests. Students from this cluster have low scores for all enrolment tests and attestation tests. However, after they passed the exam with an average score (0.64).\n",
    "- **Cluster 3** - Problems with attestation tests. Students with a high score for all enrolment tests, which passed the exam with an average score (0.63). However, they failed both attestation tests. \n",
    "- **Cluster 4** - Failed performance. Students who failed all tests.\n",
    "- **Cluster 5** - Failed course performance. Students from this cluster have average scores for enrolment mathematics test (0.65), however, after they failed attestation and examination tests.\n",
    "- **Cluster 6** - Good course performance with good background in chemistry and mathematics. Students with excellent scores for chemistry enrolment test (0.97) and good scores for mathematics enrolment tests (0.72) as well as for attestation and exam tests."
   ]
  },
  {
   "cell_type": "markdown",
   "metadata": {},
   "source": [
    "## CBLOF"
   ]
  },
  {
   "cell_type": "code",
   "execution_count": 36,
   "metadata": {},
   "outputs": [],
   "source": [
    "cblof_o = df_outliers[df_outliers.cblof_10 == 1].copy()"
   ]
  },
  {
   "cell_type": "code",
   "execution_count": 37,
   "metadata": {},
   "outputs": [],
   "source": [
    "X_cblof = np.array(cblof_o[features_name])\n",
    "X_cblof = StandardScaler().fit_transform(X_cblof)"
   ]
  },
  {
   "cell_type": "code",
   "execution_count": 38,
   "metadata": {},
   "outputs": [
    {
     "data": {
      "image/png": "[encoded data removed]",
      "text/plain": [
       "<Figure size 1080x360 with 2 Axes>"
      ]
     },
     "metadata": {},
     "output_type": "display_data"
    }
   ],
   "source": [
    "ffa.plot_ec_silhouette(X_cblof, random_state)"
   ]
  },
  {
   "cell_type": "code",
   "execution_count": 39,
   "metadata": {},
   "outputs": [],
   "source": [
    "kmeans_o = KMeans(n_clusters=5, init='k-means++',random_state = random_state).fit(X_cblof)\n",
    "labels = kmeans_o.labels_\n",
    "cblof_o['class cblof'] = labels+1"
   ]
  },
  {
   "cell_type": "code",
   "execution_count": 40,
   "metadata": {},
   "outputs": [
    {
     "data": {
      "text/html": [
       "<div>\n",
       "<style scoped>\n",
       "    .dataframe tbody tr th:only-of-type {\n",
       "        vertical-align: middle;\n",
       "    }\n",
       "\n",
       "    .dataframe tbody tr th {\n",
       "        vertical-align: top;\n",
       "    }\n",
       "\n",
       "    .dataframe thead th {\n",
       "        text-align: right;\n",
       "    }\n",
       "</style>\n",
       "<table border=\"1\" class=\"dataframe\">\n",
       "  <thead>\n",
       "    <tr style=\"text-align: right;\">\n",
       "      <th></th>\n",
       "      <th>Etmath</th>\n",
       "      <th>Etph</th>\n",
       "      <th>Etch</th>\n",
       "      <th>AT1</th>\n",
       "      <th>AT2</th>\n",
       "      <th>Exam</th>\n",
       "      <th>N</th>\n",
       "    </tr>\n",
       "    <tr>\n",
       "      <th>class cblof</th>\n",
       "      <th></th>\n",
       "      <th></th>\n",
       "      <th></th>\n",
       "      <th></th>\n",
       "      <th></th>\n",
       "      <th></th>\n",
       "      <th></th>\n",
       "    </tr>\n",
       "  </thead>\n",
       "  <tbody>\n",
       "    <tr>\n",
       "      <th>1</th>\n",
       "      <td>0.67</td>\n",
       "      <td>0.69</td>\n",
       "      <td>0.56</td>\n",
       "      <td>0.43</td>\n",
       "      <td>0.28</td>\n",
       "      <td>0.62</td>\n",
       "      <td>25</td>\n",
       "    </tr>\n",
       "    <tr>\n",
       "      <th>2</th>\n",
       "      <td>0.67</td>\n",
       "      <td>0.44</td>\n",
       "      <td>0.40</td>\n",
       "      <td>0.47</td>\n",
       "      <td>0.28</td>\n",
       "      <td>0.08</td>\n",
       "      <td>42</td>\n",
       "    </tr>\n",
       "    <tr>\n",
       "      <th>3</th>\n",
       "      <td>0.46</td>\n",
       "      <td>0.37</td>\n",
       "      <td>0.45</td>\n",
       "      <td>0.03</td>\n",
       "      <td>0.05</td>\n",
       "      <td>0.36</td>\n",
       "      <td>20</td>\n",
       "    </tr>\n",
       "    <tr>\n",
       "      <th>4</th>\n",
       "      <td>0.36</td>\n",
       "      <td>0.14</td>\n",
       "      <td>0.16</td>\n",
       "      <td>0.55</td>\n",
       "      <td>0.50</td>\n",
       "      <td>0.63</td>\n",
       "      <td>11</td>\n",
       "    </tr>\n",
       "    <tr>\n",
       "      <th>5</th>\n",
       "      <td>0.79</td>\n",
       "      <td>0.43</td>\n",
       "      <td>0.59</td>\n",
       "      <td>0.81</td>\n",
       "      <td>0.73</td>\n",
       "      <td>0.91</td>\n",
       "      <td>10</td>\n",
       "    </tr>\n",
       "  </tbody>\n",
       "</table>\n",
       "</div>"
      ],
      "text/plain": [
       "             Etmath  Etph  Etch   AT1   AT2  Exam   N\n",
       "class cblof                                          \n",
       "1              0.67  0.69  0.56  0.43  0.28  0.62  25\n",
       "2              0.67  0.44  0.40  0.47  0.28  0.08  42\n",
       "3              0.46  0.37  0.45  0.03  0.05  0.36  20\n",
       "4              0.36  0.14  0.16  0.55  0.50  0.63  11\n",
       "5              0.79  0.43  0.59  0.81  0.73  0.91  10"
      ]
     },
     "execution_count": 40,
     "metadata": {},
     "output_type": "execute_result"
    }
   ],
   "source": [
    "ffa.clusters(cblof_o, 'class cblof')"
   ]
  },
  {
   "cell_type": "markdown",
   "metadata": {},
   "source": [
    "**Clusters of outliers detected by CBLOF:**\n",
    "- **Cluster 1** - Problems with attestation tests. Students with average scores for all enrolment tests and the exam. However, they failed both attestation tests.\n",
    "- **Cluster 2** - Failed course performance. Students from this cluster have average scores for enrolment mathematics test (0.67), however, after they failed attestation and examination tests.\n",
    "- **Cluster 3** - Failed performance. Students who failed all tests.\n",
    "- **Cluster 4** - Average exam score despite failed tests. Students from this cluster have low scores for all enrolment tests and attestation tests. However, after they passed the exam with an average score (0.63).\n",
    "- **Cluster 5** - Good course performance with good background in chem\u0002istry and mathematics. Students with average scores for chemistry and mathematics enrolment tests as well as for attestation and exam tests."
   ]
  },
  {
   "cell_type": "markdown",
   "metadata": {},
   "source": [
    "## HBOS"
   ]
  },
  {
   "cell_type": "code",
   "execution_count": 41,
   "metadata": {},
   "outputs": [],
   "source": [
    "hbos_o = df_outliers[df_outliers.hbos_10 == 1].copy()"
   ]
  },
  {
   "cell_type": "code",
   "execution_count": 42,
   "metadata": {},
   "outputs": [],
   "source": [
    "X_hbos = np.array(hbos_o[features_name])\n",
    "X_hbos = StandardScaler().fit_transform(X_hbos)"
   ]
  },
  {
   "cell_type": "code",
   "execution_count": 43,
   "metadata": {},
   "outputs": [
    {
     "data": {
      "image/png": "[encoded data removed]",
      "text/plain": [
       "<Figure size 1080x360 with 2 Axes>"
      ]
     },
     "metadata": {},
     "output_type": "display_data"
    }
   ],
   "source": [
    "ffa.plot_ec_silhouette(X_hbos, random_state)"
   ]
  },
  {
   "cell_type": "code",
   "execution_count": 44,
   "metadata": {},
   "outputs": [],
   "source": [
    "kmeans_o = KMeans(n_clusters=5, init='k-means++',random_state = random_state).fit(X_hbos)\n",
    "labels = kmeans_o.labels_\n",
    "hbos_o['class hbos'] = labels+1"
   ]
  },
  {
   "cell_type": "code",
   "execution_count": 45,
   "metadata": {},
   "outputs": [
    {
     "data": {
      "text/html": [
       "<div>\n",
       "<style scoped>\n",
       "    .dataframe tbody tr th:only-of-type {\n",
       "        vertical-align: middle;\n",
       "    }\n",
       "\n",
       "    .dataframe tbody tr th {\n",
       "        vertical-align: top;\n",
       "    }\n",
       "\n",
       "    .dataframe thead th {\n",
       "        text-align: right;\n",
       "    }\n",
       "</style>\n",
       "<table border=\"1\" class=\"dataframe\">\n",
       "  <thead>\n",
       "    <tr style=\"text-align: right;\">\n",
       "      <th></th>\n",
       "      <th>Etmath</th>\n",
       "      <th>Etph</th>\n",
       "      <th>Etch</th>\n",
       "      <th>AT1</th>\n",
       "      <th>AT2</th>\n",
       "      <th>Exam</th>\n",
       "      <th>N</th>\n",
       "    </tr>\n",
       "    <tr>\n",
       "      <th>class hbos</th>\n",
       "      <th></th>\n",
       "      <th></th>\n",
       "      <th></th>\n",
       "      <th></th>\n",
       "      <th></th>\n",
       "      <th></th>\n",
       "      <th></th>\n",
       "    </tr>\n",
       "  </thead>\n",
       "  <tbody>\n",
       "    <tr>\n",
       "      <th>1</th>\n",
       "      <td>0.31</td>\n",
       "      <td>0.21</td>\n",
       "      <td>0.19</td>\n",
       "      <td>0.25</td>\n",
       "      <td>0.17</td>\n",
       "      <td>0.40</td>\n",
       "      <td>16</td>\n",
       "    </tr>\n",
       "    <tr>\n",
       "      <th>2</th>\n",
       "      <td>0.89</td>\n",
       "      <td>0.80</td>\n",
       "      <td>0.73</td>\n",
       "      <td>0.75</td>\n",
       "      <td>0.74</td>\n",
       "      <td>0.85</td>\n",
       "      <td>41</td>\n",
       "    </tr>\n",
       "    <tr>\n",
       "      <th>3</th>\n",
       "      <td>0.13</td>\n",
       "      <td>0.14</td>\n",
       "      <td>0.22</td>\n",
       "      <td>0.17</td>\n",
       "      <td>0.14</td>\n",
       "      <td>0.15</td>\n",
       "      <td>28</td>\n",
       "    </tr>\n",
       "    <tr>\n",
       "      <th>4</th>\n",
       "      <td>0.81</td>\n",
       "      <td>0.76</td>\n",
       "      <td>0.25</td>\n",
       "      <td>0.77</td>\n",
       "      <td>0.72</td>\n",
       "      <td>0.90</td>\n",
       "      <td>9</td>\n",
       "    </tr>\n",
       "    <tr>\n",
       "      <th>5</th>\n",
       "      <td>0.81</td>\n",
       "      <td>0.48</td>\n",
       "      <td>0.88</td>\n",
       "      <td>0.80</td>\n",
       "      <td>0.77</td>\n",
       "      <td>0.95</td>\n",
       "      <td>14</td>\n",
       "    </tr>\n",
       "  </tbody>\n",
       "</table>\n",
       "</div>"
      ],
      "text/plain": [
       "            Etmath  Etph  Etch   AT1   AT2  Exam   N\n",
       "class hbos                                          \n",
       "1             0.31  0.21  0.19  0.25  0.17  0.40  16\n",
       "2             0.89  0.80  0.73  0.75  0.74  0.85  41\n",
       "3             0.13  0.14  0.22  0.17  0.14  0.15  28\n",
       "4             0.81  0.76  0.25  0.77  0.72  0.90   9\n",
       "5             0.81  0.48  0.88  0.80  0.77  0.95  14"
      ]
     },
     "execution_count": 45,
     "metadata": {},
     "output_type": "execute_result"
    }
   ],
   "source": [
    "ffa.clusters(hbos_o, 'class hbos')"
   ]
  },
  {
   "cell_type": "markdown",
   "metadata": {},
   "source": [
    "**Clusters of outliers detected by HBOS:**\n",
    "- **Cluster 1** - Good performance. Students with good scores for all tests.\n",
    "- **Cluster 2** - Good course performance with a good background in chemistry and mathematics. Students with good scores for all tests, except ETph, who passed exams with excellent score (0.95).\n",
    "- **Cluster 3** - Good course performance with good background in physics and mathematics. Students with good scores for all tests, except ETch, who passed exams with excellent score (0.9).\n",
    "- **Clusters 4-5** - Failed performance. Students who failed all tests."
   ]
  },
  {
   "cell_type": "markdown",
   "metadata": {},
   "source": [
    "## LOF"
   ]
  },
  {
   "cell_type": "code",
   "execution_count": 46,
   "metadata": {},
   "outputs": [],
   "source": [
    "lof_o = df_outliers[df_outliers.lof_10 == 1].copy()"
   ]
  },
  {
   "cell_type": "code",
   "execution_count": 47,
   "metadata": {},
   "outputs": [],
   "source": [
    "X_lof = np.array(lof_o[features_name])\n",
    "X_lof = StandardScaler().fit_transform(X_lof)"
   ]
  },
  {
   "cell_type": "code",
   "execution_count": 48,
   "metadata": {},
   "outputs": [
    {
     "data": {
      "image/png": "[encoded data removed]",
      "text/plain": [
       "<Figure size 1080x360 with 2 Axes>"
      ]
     },
     "metadata": {},
     "output_type": "display_data"
    }
   ],
   "source": [
    "ffa.plot_ec_silhouette(X_lof, random_state)"
   ]
  },
  {
   "cell_type": "code",
   "execution_count": 49,
   "metadata": {},
   "outputs": [],
   "source": [
    "kmeans_o = KMeans(n_clusters=5, init='k-means++',random_state = random_state).fit(X_lof)\n",
    "labels = kmeans_o.labels_\n",
    "lof_o['class lof'] = labels+1"
   ]
  },
  {
   "cell_type": "code",
   "execution_count": 50,
   "metadata": {},
   "outputs": [
    {
     "data": {
      "text/html": [
       "<div>\n",
       "<style scoped>\n",
       "    .dataframe tbody tr th:only-of-type {\n",
       "        vertical-align: middle;\n",
       "    }\n",
       "\n",
       "    .dataframe tbody tr th {\n",
       "        vertical-align: top;\n",
       "    }\n",
       "\n",
       "    .dataframe thead th {\n",
       "        text-align: right;\n",
       "    }\n",
       "</style>\n",
       "<table border=\"1\" class=\"dataframe\">\n",
       "  <thead>\n",
       "    <tr style=\"text-align: right;\">\n",
       "      <th></th>\n",
       "      <th>Etmath</th>\n",
       "      <th>Etph</th>\n",
       "      <th>Etch</th>\n",
       "      <th>AT1</th>\n",
       "      <th>AT2</th>\n",
       "      <th>Exam</th>\n",
       "      <th>N</th>\n",
       "    </tr>\n",
       "    <tr>\n",
       "      <th>class lof</th>\n",
       "      <th></th>\n",
       "      <th></th>\n",
       "      <th></th>\n",
       "      <th></th>\n",
       "      <th></th>\n",
       "      <th></th>\n",
       "      <th></th>\n",
       "    </tr>\n",
       "  </thead>\n",
       "  <tbody>\n",
       "    <tr>\n",
       "      <th>1</th>\n",
       "      <td>0.42</td>\n",
       "      <td>0.16</td>\n",
       "      <td>0.22</td>\n",
       "      <td>0.52</td>\n",
       "      <td>0.57</td>\n",
       "      <td>0.66</td>\n",
       "      <td>20</td>\n",
       "    </tr>\n",
       "    <tr>\n",
       "      <th>2</th>\n",
       "      <td>0.44</td>\n",
       "      <td>0.37</td>\n",
       "      <td>0.42</td>\n",
       "      <td>0.08</td>\n",
       "      <td>0.10</td>\n",
       "      <td>0.43</td>\n",
       "      <td>28</td>\n",
       "    </tr>\n",
       "    <tr>\n",
       "      <th>3</th>\n",
       "      <td>0.77</td>\n",
       "      <td>0.61</td>\n",
       "      <td>0.86</td>\n",
       "      <td>0.55</td>\n",
       "      <td>0.39</td>\n",
       "      <td>0.72</td>\n",
       "      <td>12</td>\n",
       "    </tr>\n",
       "    <tr>\n",
       "      <th>4</th>\n",
       "      <td>0.70</td>\n",
       "      <td>0.81</td>\n",
       "      <td>0.20</td>\n",
       "      <td>0.65</td>\n",
       "      <td>0.65</td>\n",
       "      <td>0.84</td>\n",
       "      <td>11</td>\n",
       "    </tr>\n",
       "    <tr>\n",
       "      <th>5</th>\n",
       "      <td>0.69</td>\n",
       "      <td>0.46</td>\n",
       "      <td>0.46</td>\n",
       "      <td>0.49</td>\n",
       "      <td>0.23</td>\n",
       "      <td>0.20</td>\n",
       "      <td>37</td>\n",
       "    </tr>\n",
       "  </tbody>\n",
       "</table>\n",
       "</div>"
      ],
      "text/plain": [
       "           Etmath  Etph  Etch   AT1   AT2  Exam   N\n",
       "class lof                                          \n",
       "1            0.42  0.16  0.22  0.52  0.57  0.66  20\n",
       "2            0.44  0.37  0.42  0.08  0.10  0.43  28\n",
       "3            0.77  0.61  0.86  0.55  0.39  0.72  12\n",
       "4            0.70  0.81  0.20  0.65  0.65  0.84  11\n",
       "5            0.69  0.46  0.46  0.49  0.23  0.20  37"
      ]
     },
     "execution_count": 50,
     "metadata": {},
     "output_type": "execute_result"
    }
   ],
   "source": [
    "ffa.clusters(lof_o, 'class lof')"
   ]
  },
  {
   "cell_type": "markdown",
   "metadata": {},
   "source": [
    "**Clusters of outliers detected by LOF:**\n",
    "- **Cluster 1** - Average exam score despite failed tests. Students from this cluster have low scores for all enrolment tests and AT1, however, after they tried to reestablish and passed AT2 and exam with average scores.\n",
    "- **Cluster 2** - Failed performance. Students with failed performance for all tests.\n",
    "- **Cluster 3** - Problems with attestation tests. Students with average scores for all enrolment tests and the exam. However, they failed both attestation tests.\n",
    "- **Cluster 4** - Good course performance with good background in physics and mathematics. Students with good scores for mathematics and physics enrolment tests as well as for attestation and exam tests.\n",
    "- **Cluster 5** - Failed course performance. Students from this cluster have average scores for enrolment mathematics test (0.69), however, after they failed attestation and examination tests"
   ]
  }
 ],
 "metadata": {
  "kernelspec": {
   "display_name": "Python 3 (ipykernel)",
   "language": "python",
   "name": "python3"
  },
  "language_info": {
   "codemirror_mode": {
    "name": "ipython",
    "version": 3
   },
   "file_extension": ".py",
   "mimetype": "text/x-python",
   "name": "python",
   "nbconvert_exporter": "python",
   "pygments_lexer": "ipython3",
   "version": "3.10.4"
  },
  "toc": {
   "base_numbering": 1,
   "nav_menu": {},
   "number_sections": true,
   "sideBar": true,
   "skip_h1_title": false,
   "title_cell": "Table of Contents",
   "title_sidebar": "Contents",
   "toc_cell": false,
   "toc_position": {
    "height": "calc(100% - 180px)",
    "left": "10px",
    "top": "150px",
    "width": "165px"
   },
   "toc_section_display": true,
   "toc_window_display": true
  },
  "varInspector": {
   "cols": {
    "lenName": 16,
    "lenType": 16,
    "lenVar": 40
   },
   "kernels_config": {
    "python": {
     "delete_cmd_postfix": "",
     "delete_cmd_prefix": "del ",
     "library": "var_list.py",
     "varRefreshCmd": "print(var_dic_list())"
    },
    "r": {
     "delete_cmd_postfix": ") ",
     "delete_cmd_prefix": "rm(",
     "library": "var_list.r",
     "varRefreshCmd": "cat(var_dic_list()) "
    }
   },
   "types_to_exclude": [
    "module",
    "function",
    "builtin_function_or_method",
    "instance",
    "_Feature"
   ],
   "window_display": false
  }
 },
 "nbformat": 4,
 "nbformat_minor": 4
}
